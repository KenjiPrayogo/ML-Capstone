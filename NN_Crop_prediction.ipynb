{
  "nbformat": 4,
  "nbformat_minor": 0,
  "metadata": {
    "colab": {
      "provenance": [],
      "authorship_tag": "ABX9TyOzfYXF5BIzjwH/DSYckWZG",
      "include_colab_link": true
    },
    "kernelspec": {
      "name": "python3",
      "display_name": "Python 3"
    },
    "language_info": {
      "name": "python"
    }
  },
  "cells": [
    {
      "cell_type": "markdown",
      "metadata": {
        "id": "view-in-github",
        "colab_type": "text"
      },
      "source": [
        "<a href=\"https://colab.research.google.com/github/KenjiPrayogo/ML-Capstone/blob/main/NN_Crop_prediction.ipynb\" target=\"_parent\"><img src=\"https://colab.research.google.com/assets/colab-badge.svg\" alt=\"Open In Colab\"/></a>"
      ]
    },
    {
      "cell_type": "code",
      "execution_count": null,
      "metadata": {
        "id": "Dipl1u42Colp"
      },
      "outputs": [],
      "source": [
        "import pandas as pd\n",
        "import numpy as np\n",
        "from sklearn.model_selection import train_test_split\n",
        "from sklearn.preprocessing import LabelEncoder\n",
        "from sklearn.metrics import accuracy_score\n",
        "import tensorflow as tf\n",
        "from tensorflow.keras.models import Sequential\n",
        "from tensorflow.keras.layers import Dense\n",
        "import matplotlib.pyplot as plt\n",
        "\n",
        "# Load the dataset\n",
        "df = pd.read_csv('/content/Crop_recommendation.csv')\n",
        "\n",
        "# Split features and labels\n",
        "X = df.drop('label', axis=1)\n",
        "y = df['label']\n",
        "\n"
      ]
    },
    {
      "cell_type": "code",
      "source": [
        "# Encode the categorical labels into numerical values\n",
        "label_encoder = LabelEncoder()\n",
        "y = label_encoder.fit_transform(y)\n",
        "\n",
        "# Split the data into training and testing sets\n",
        "X_train, X_test, y_train, y_test = train_test_split(X, y, test_size=0.2, random_state=42)\n",
        "\n",
        "print(X_train)\n",
        "print(y_train)"
      ],
      "metadata": {
        "colab": {
          "base_uri": "https://localhost:8080/"
        },
        "id": "EbEFRJSpCybM",
        "outputId": "0a11c13f-5086-4d21-bcee-384dfa8e5479"
      },
      "execution_count": null,
      "outputs": [
        {
          "output_type": "stream",
          "name": "stdout",
          "text": [
            "        N    P    K  temperature   humidity        ph    rainfall\n",
            "1656   17   16   14    16.396243  92.181519  6.625539  102.944161\n",
            "752    37   79   19    27.543848  69.347863  7.143943   69.408782\n",
            "892     7   73   25    27.521856  63.132153  7.288057   45.208411\n",
            "1041  101   70   48    25.360592  75.031933  6.012697  116.553145\n",
            "1179    0   17   30    35.474783  47.972305  6.279134   97.790725\n",
            "...   ...  ...  ...          ...        ...       ...         ...\n",
            "1638   10    5    5    21.213070  91.353492  7.817846  112.983436\n",
            "1095  108   94   47    27.359116  84.546250  6.387431   90.812505\n",
            "1130   11   36   31    27.920633  51.779659  6.475449  100.258567\n",
            "1294   11  124  204    13.429886  80.066340  6.361141   71.400430\n",
            "860    32   78   22    23.970814  62.355576  7.007038   53.409060\n",
            "\n",
            "[1760 rows x 7 columns]\n",
            "[16  2 10 ... 12  7 10]\n"
          ]
        }
      ]
    },
    {
      "cell_type": "code",
      "source": [
        "# Create a neural network model\n",
        "model = Sequential()\n",
        "model.add(Dense(256, input_dim=X_train.shape[1], activation='relu'))\n",
        "model.add(Dense(128, activation='relu'))\n",
        "model.add(Dense(len(label_encoder.classes_), activation='softmax'))\n",
        "\n",
        "\n",
        "# Compile the model\n",
        "model.compile(loss='sparse_categorical_crossentropy', optimizer='adam', metrics=['accuracy'])"
      ],
      "metadata": {
        "id": "MRnnDHDZC0Mt"
      },
      "execution_count": null,
      "outputs": []
    },
    {
      "cell_type": "code",
      "source": [
        "# Train the model\n",
        "history = model.fit(X_train, y_train, validation_data=(X_test, y_test), epochs=100, batch_size=32, verbose=1)\n"
      ],
      "metadata": {
        "colab": {
          "base_uri": "https://localhost:8080/"
        },
        "id": "aK4TCo1XC6AU",
        "outputId": "895052ad-d124-4780-f903-948c3e1f1223"
      },
      "execution_count": null,
      "outputs": [
        {
          "output_type": "stream",
          "name": "stdout",
          "text": [
            "Epoch 1/100\n",
            "55/55 [==============================] - 0s 6ms/step - loss: 0.0384 - accuracy: 0.9835 - val_loss: 0.1317 - val_accuracy: 0.9591\n",
            "Epoch 2/100\n",
            "55/55 [==============================] - 0s 5ms/step - loss: 0.0478 - accuracy: 0.9790 - val_loss: 0.1375 - val_accuracy: 0.9614\n",
            "Epoch 3/100\n",
            "55/55 [==============================] - 0s 6ms/step - loss: 0.1448 - accuracy: 0.9653 - val_loss: 0.1507 - val_accuracy: 0.9500\n",
            "Epoch 4/100\n",
            "55/55 [==============================] - 0s 5ms/step - loss: 0.0475 - accuracy: 0.9824 - val_loss: 0.0921 - val_accuracy: 0.9545\n",
            "Epoch 5/100\n",
            "55/55 [==============================] - 0s 6ms/step - loss: 0.0427 - accuracy: 0.9784 - val_loss: 0.0888 - val_accuracy: 0.9636\n",
            "Epoch 6/100\n",
            "55/55 [==============================] - 0s 4ms/step - loss: 0.0343 - accuracy: 0.9881 - val_loss: 0.0894 - val_accuracy: 0.9568\n",
            "Epoch 7/100\n",
            "55/55 [==============================] - 0s 4ms/step - loss: 0.0286 - accuracy: 0.9898 - val_loss: 0.1142 - val_accuracy: 0.9591\n",
            "Epoch 8/100\n",
            "55/55 [==============================] - 0s 4ms/step - loss: 0.0353 - accuracy: 0.9852 - val_loss: 0.1151 - val_accuracy: 0.9636\n",
            "Epoch 9/100\n",
            "55/55 [==============================] - 0s 3ms/step - loss: 0.0279 - accuracy: 0.9875 - val_loss: 0.1073 - val_accuracy: 0.9614\n",
            "Epoch 10/100\n",
            "55/55 [==============================] - 0s 4ms/step - loss: 0.0281 - accuracy: 0.9869 - val_loss: 0.1153 - val_accuracy: 0.9523\n",
            "Epoch 11/100\n",
            "55/55 [==============================] - 0s 3ms/step - loss: 0.0280 - accuracy: 0.9881 - val_loss: 0.1089 - val_accuracy: 0.9591\n",
            "Epoch 12/100\n",
            "55/55 [==============================] - 0s 4ms/step - loss: 0.0251 - accuracy: 0.9898 - val_loss: 0.1238 - val_accuracy: 0.9455\n",
            "Epoch 13/100\n",
            "55/55 [==============================] - 0s 3ms/step - loss: 0.0270 - accuracy: 0.9886 - val_loss: 0.1057 - val_accuracy: 0.9614\n",
            "Epoch 14/100\n",
            "55/55 [==============================] - 0s 3ms/step - loss: 0.0275 - accuracy: 0.9875 - val_loss: 0.0790 - val_accuracy: 0.9659\n",
            "Epoch 15/100\n",
            "55/55 [==============================] - 0s 4ms/step - loss: 0.0247 - accuracy: 0.9886 - val_loss: 0.0944 - val_accuracy: 0.9545\n",
            "Epoch 16/100\n",
            "55/55 [==============================] - 0s 3ms/step - loss: 0.0258 - accuracy: 0.9892 - val_loss: 0.0857 - val_accuracy: 0.9545\n",
            "Epoch 17/100\n",
            "55/55 [==============================] - 0s 4ms/step - loss: 0.0262 - accuracy: 0.9892 - val_loss: 0.1032 - val_accuracy: 0.9568\n",
            "Epoch 18/100\n",
            "55/55 [==============================] - 0s 4ms/step - loss: 0.0298 - accuracy: 0.9886 - val_loss: 0.1063 - val_accuracy: 0.9591\n",
            "Epoch 19/100\n",
            "55/55 [==============================] - 0s 4ms/step - loss: 0.0263 - accuracy: 0.9903 - val_loss: 0.1134 - val_accuracy: 0.9636\n",
            "Epoch 20/100\n",
            "55/55 [==============================] - 0s 4ms/step - loss: 0.0301 - accuracy: 0.9852 - val_loss: 0.0890 - val_accuracy: 0.9591\n",
            "Epoch 21/100\n",
            "55/55 [==============================] - 0s 4ms/step - loss: 0.0287 - accuracy: 0.9898 - val_loss: 0.1409 - val_accuracy: 0.9568\n",
            "Epoch 22/100\n",
            "55/55 [==============================] - 0s 4ms/step - loss: 0.0343 - accuracy: 0.9892 - val_loss: 0.1278 - val_accuracy: 0.9523\n",
            "Epoch 23/100\n",
            "55/55 [==============================] - 0s 4ms/step - loss: 0.0337 - accuracy: 0.9835 - val_loss: 0.1288 - val_accuracy: 0.9500\n",
            "Epoch 24/100\n",
            "55/55 [==============================] - 0s 4ms/step - loss: 0.0364 - accuracy: 0.9852 - val_loss: 0.1134 - val_accuracy: 0.9568\n",
            "Epoch 25/100\n",
            "55/55 [==============================] - 0s 4ms/step - loss: 0.0356 - accuracy: 0.9858 - val_loss: 0.1056 - val_accuracy: 0.9636\n",
            "Epoch 26/100\n",
            "55/55 [==============================] - 0s 4ms/step - loss: 0.0418 - accuracy: 0.9824 - val_loss: 0.2876 - val_accuracy: 0.9250\n",
            "Epoch 27/100\n",
            "55/55 [==============================] - 0s 4ms/step - loss: 0.0704 - accuracy: 0.9739 - val_loss: 0.1674 - val_accuracy: 0.9545\n",
            "Epoch 28/100\n",
            "55/55 [==============================] - 0s 4ms/step - loss: 0.0623 - accuracy: 0.9778 - val_loss: 0.1628 - val_accuracy: 0.9409\n",
            "Epoch 29/100\n",
            "55/55 [==============================] - 0s 5ms/step - loss: 0.0531 - accuracy: 0.9790 - val_loss: 0.1217 - val_accuracy: 0.9500\n",
            "Epoch 30/100\n",
            "55/55 [==============================] - 0s 4ms/step - loss: 0.0357 - accuracy: 0.9869 - val_loss: 0.0901 - val_accuracy: 0.9568\n",
            "Epoch 31/100\n",
            "55/55 [==============================] - 0s 3ms/step - loss: 0.0291 - accuracy: 0.9864 - val_loss: 0.0914 - val_accuracy: 0.9614\n",
            "Epoch 32/100\n",
            "55/55 [==============================] - 0s 3ms/step - loss: 0.0317 - accuracy: 0.9841 - val_loss: 0.1329 - val_accuracy: 0.9545\n",
            "Epoch 33/100\n",
            "55/55 [==============================] - 0s 4ms/step - loss: 0.0615 - accuracy: 0.9812 - val_loss: 0.0970 - val_accuracy: 0.9614\n",
            "Epoch 34/100\n",
            "55/55 [==============================] - 0s 4ms/step - loss: 0.0559 - accuracy: 0.9795 - val_loss: 0.1381 - val_accuracy: 0.9591\n",
            "Epoch 35/100\n",
            "55/55 [==============================] - 0s 5ms/step - loss: 0.0377 - accuracy: 0.9841 - val_loss: 0.1363 - val_accuracy: 0.9568\n",
            "Epoch 36/100\n",
            "55/55 [==============================] - 0s 4ms/step - loss: 0.0267 - accuracy: 0.9886 - val_loss: 0.1203 - val_accuracy: 0.9523\n",
            "Epoch 37/100\n",
            "55/55 [==============================] - 0s 4ms/step - loss: 0.0302 - accuracy: 0.9858 - val_loss: 0.0970 - val_accuracy: 0.9614\n",
            "Epoch 38/100\n",
            "55/55 [==============================] - 0s 3ms/step - loss: 0.0244 - accuracy: 0.9898 - val_loss: 0.1101 - val_accuracy: 0.9545\n",
            "Epoch 39/100\n",
            "55/55 [==============================] - 0s 4ms/step - loss: 0.0227 - accuracy: 0.9920 - val_loss: 0.0904 - val_accuracy: 0.9614\n",
            "Epoch 40/100\n",
            "55/55 [==============================] - 0s 3ms/step - loss: 0.0203 - accuracy: 0.9920 - val_loss: 0.0994 - val_accuracy: 0.9568\n",
            "Epoch 41/100\n",
            "55/55 [==============================] - 0s 4ms/step - loss: 0.0192 - accuracy: 0.9915 - val_loss: 0.1129 - val_accuracy: 0.9523\n",
            "Epoch 42/100\n",
            "55/55 [==============================] - 0s 4ms/step - loss: 0.0206 - accuracy: 0.9920 - val_loss: 0.1045 - val_accuracy: 0.9523\n",
            "Epoch 43/100\n",
            "55/55 [==============================] - 0s 4ms/step - loss: 0.0268 - accuracy: 0.9875 - val_loss: 0.1219 - val_accuracy: 0.9568\n",
            "Epoch 44/100\n",
            "55/55 [==============================] - 0s 3ms/step - loss: 0.0262 - accuracy: 0.9869 - val_loss: 0.1378 - val_accuracy: 0.9568\n",
            "Epoch 45/100\n",
            "55/55 [==============================] - 0s 4ms/step - loss: 0.0304 - accuracy: 0.9847 - val_loss: 0.1351 - val_accuracy: 0.9545\n",
            "Epoch 46/100\n",
            "55/55 [==============================] - 0s 4ms/step - loss: 0.0385 - accuracy: 0.9852 - val_loss: 0.0943 - val_accuracy: 0.9636\n",
            "Epoch 47/100\n",
            "55/55 [==============================] - 0s 4ms/step - loss: 0.0460 - accuracy: 0.9812 - val_loss: 0.1519 - val_accuracy: 0.9568\n",
            "Epoch 48/100\n",
            "55/55 [==============================] - 0s 3ms/step - loss: 0.0563 - accuracy: 0.9767 - val_loss: 0.1550 - val_accuracy: 0.9591\n",
            "Epoch 49/100\n",
            "55/55 [==============================] - 0s 3ms/step - loss: 0.0497 - accuracy: 0.9807 - val_loss: 0.1171 - val_accuracy: 0.9545\n",
            "Epoch 50/100\n",
            "55/55 [==============================] - 0s 3ms/step - loss: 0.0423 - accuracy: 0.9835 - val_loss: 0.2084 - val_accuracy: 0.9341\n",
            "Epoch 51/100\n",
            "55/55 [==============================] - 0s 4ms/step - loss: 0.0485 - accuracy: 0.9801 - val_loss: 0.1139 - val_accuracy: 0.9545\n",
            "Epoch 52/100\n",
            "55/55 [==============================] - 0s 6ms/step - loss: 0.0310 - accuracy: 0.9858 - val_loss: 0.1352 - val_accuracy: 0.9500\n",
            "Epoch 53/100\n",
            "55/55 [==============================] - 0s 6ms/step - loss: 0.0349 - accuracy: 0.9869 - val_loss: 0.1390 - val_accuracy: 0.9523\n",
            "Epoch 54/100\n",
            "55/55 [==============================] - 0s 6ms/step - loss: 0.0323 - accuracy: 0.9858 - val_loss: 0.1384 - val_accuracy: 0.9500\n",
            "Epoch 55/100\n",
            "55/55 [==============================] - 0s 5ms/step - loss: 0.0285 - accuracy: 0.9886 - val_loss: 0.0879 - val_accuracy: 0.9682\n",
            "Epoch 56/100\n",
            "55/55 [==============================] - 0s 6ms/step - loss: 0.0230 - accuracy: 0.9892 - val_loss: 0.1014 - val_accuracy: 0.9591\n",
            "Epoch 57/100\n",
            "55/55 [==============================] - 0s 6ms/step - loss: 0.0301 - accuracy: 0.9875 - val_loss: 0.1158 - val_accuracy: 0.9614\n",
            "Epoch 58/100\n",
            "55/55 [==============================] - 0s 5ms/step - loss: 0.0290 - accuracy: 0.9875 - val_loss: 0.1057 - val_accuracy: 0.9659\n",
            "Epoch 59/100\n",
            "55/55 [==============================] - 0s 5ms/step - loss: 0.0280 - accuracy: 0.9875 - val_loss: 0.0872 - val_accuracy: 0.9591\n",
            "Epoch 60/100\n",
            "55/55 [==============================] - 0s 4ms/step - loss: 0.0224 - accuracy: 0.9892 - val_loss: 0.1190 - val_accuracy: 0.9568\n",
            "Epoch 61/100\n",
            "55/55 [==============================] - 0s 4ms/step - loss: 0.0225 - accuracy: 0.9915 - val_loss: 0.1179 - val_accuracy: 0.9568\n",
            "Epoch 62/100\n",
            "55/55 [==============================] - 0s 4ms/step - loss: 0.0201 - accuracy: 0.9909 - val_loss: 0.1009 - val_accuracy: 0.9614\n",
            "Epoch 63/100\n",
            "55/55 [==============================] - 0s 3ms/step - loss: 0.0238 - accuracy: 0.9892 - val_loss: 0.1302 - val_accuracy: 0.9500\n",
            "Epoch 64/100\n",
            "55/55 [==============================] - 0s 4ms/step - loss: 0.0206 - accuracy: 0.9909 - val_loss: 0.1337 - val_accuracy: 0.9545\n",
            "Epoch 65/100\n",
            "55/55 [==============================] - 0s 4ms/step - loss: 0.0266 - accuracy: 0.9864 - val_loss: 0.1247 - val_accuracy: 0.9568\n",
            "Epoch 66/100\n",
            "55/55 [==============================] - 0s 4ms/step - loss: 0.0252 - accuracy: 0.9898 - val_loss: 0.1174 - val_accuracy: 0.9500\n",
            "Epoch 67/100\n",
            "55/55 [==============================] - 0s 4ms/step - loss: 0.0204 - accuracy: 0.9898 - val_loss: 0.1006 - val_accuracy: 0.9591\n",
            "Epoch 68/100\n",
            "55/55 [==============================] - 0s 4ms/step - loss: 0.0346 - accuracy: 0.9852 - val_loss: 0.1880 - val_accuracy: 0.9318\n",
            "Epoch 69/100\n",
            "55/55 [==============================] - 0s 4ms/step - loss: 0.0313 - accuracy: 0.9869 - val_loss: 0.1212 - val_accuracy: 0.9591\n",
            "Epoch 70/100\n",
            "55/55 [==============================] - 0s 4ms/step - loss: 0.0460 - accuracy: 0.9841 - val_loss: 0.1363 - val_accuracy: 0.9614\n",
            "Epoch 71/100\n",
            "55/55 [==============================] - 0s 4ms/step - loss: 0.1207 - accuracy: 0.9614 - val_loss: 0.2239 - val_accuracy: 0.9432\n",
            "Epoch 72/100\n",
            "55/55 [==============================] - 0s 4ms/step - loss: 0.1414 - accuracy: 0.9631 - val_loss: 0.7863 - val_accuracy: 0.8932\n",
            "Epoch 73/100\n",
            "55/55 [==============================] - 0s 3ms/step - loss: 0.1488 - accuracy: 0.9705 - val_loss: 0.1417 - val_accuracy: 0.9455\n",
            "Epoch 74/100\n",
            "55/55 [==============================] - 0s 4ms/step - loss: 0.0323 - accuracy: 0.9852 - val_loss: 0.1070 - val_accuracy: 0.9477\n",
            "Epoch 75/100\n",
            "55/55 [==============================] - 0s 3ms/step - loss: 0.0298 - accuracy: 0.9875 - val_loss: 0.1031 - val_accuracy: 0.9568\n",
            "Epoch 76/100\n",
            "55/55 [==============================] - 0s 3ms/step - loss: 0.0240 - accuracy: 0.9898 - val_loss: 0.0912 - val_accuracy: 0.9568\n",
            "Epoch 77/100\n",
            "55/55 [==============================] - 0s 4ms/step - loss: 0.0174 - accuracy: 0.9920 - val_loss: 0.1084 - val_accuracy: 0.9591\n",
            "Epoch 78/100\n",
            "55/55 [==============================] - 0s 4ms/step - loss: 0.0227 - accuracy: 0.9892 - val_loss: 0.0747 - val_accuracy: 0.9614\n",
            "Epoch 79/100\n",
            "55/55 [==============================] - 0s 4ms/step - loss: 0.0224 - accuracy: 0.9886 - val_loss: 0.0864 - val_accuracy: 0.9614\n",
            "Epoch 80/100\n",
            "55/55 [==============================] - 0s 3ms/step - loss: 0.0282 - accuracy: 0.9869 - val_loss: 0.1201 - val_accuracy: 0.9432\n",
            "Epoch 81/100\n",
            "55/55 [==============================] - 0s 3ms/step - loss: 0.0233 - accuracy: 0.9898 - val_loss: 0.0961 - val_accuracy: 0.9568\n",
            "Epoch 82/100\n",
            "55/55 [==============================] - 0s 4ms/step - loss: 0.0221 - accuracy: 0.9909 - val_loss: 0.1023 - val_accuracy: 0.9636\n",
            "Epoch 83/100\n",
            "55/55 [==============================] - 0s 4ms/step - loss: 0.0182 - accuracy: 0.9915 - val_loss: 0.1080 - val_accuracy: 0.9591\n",
            "Epoch 84/100\n",
            "55/55 [==============================] - 0s 3ms/step - loss: 0.0203 - accuracy: 0.9909 - val_loss: 0.1621 - val_accuracy: 0.9455\n",
            "Epoch 85/100\n",
            "55/55 [==============================] - 0s 4ms/step - loss: 0.0380 - accuracy: 0.9847 - val_loss: 0.1215 - val_accuracy: 0.9659\n",
            "Epoch 86/100\n",
            "55/55 [==============================] - 0s 4ms/step - loss: 0.0261 - accuracy: 0.9875 - val_loss: 0.0949 - val_accuracy: 0.9568\n",
            "Epoch 87/100\n",
            "55/55 [==============================] - 0s 3ms/step - loss: 0.0196 - accuracy: 0.9903 - val_loss: 0.0978 - val_accuracy: 0.9523\n",
            "Epoch 88/100\n",
            "55/55 [==============================] - 0s 4ms/step - loss: 0.0198 - accuracy: 0.9903 - val_loss: 0.0974 - val_accuracy: 0.9568\n",
            "Epoch 89/100\n",
            "55/55 [==============================] - 0s 3ms/step - loss: 0.0199 - accuracy: 0.9915 - val_loss: 0.1167 - val_accuracy: 0.9568\n",
            "Epoch 90/100\n",
            "55/55 [==============================] - 0s 3ms/step - loss: 0.0238 - accuracy: 0.9903 - val_loss: 0.1338 - val_accuracy: 0.9500\n",
            "Epoch 91/100\n",
            "55/55 [==============================] - 0s 3ms/step - loss: 0.0334 - accuracy: 0.9892 - val_loss: 0.0915 - val_accuracy: 0.9636\n",
            "Epoch 92/100\n",
            "55/55 [==============================] - 0s 4ms/step - loss: 0.0170 - accuracy: 0.9915 - val_loss: 0.0946 - val_accuracy: 0.9636\n",
            "Epoch 93/100\n",
            "55/55 [==============================] - 0s 4ms/step - loss: 0.0191 - accuracy: 0.9898 - val_loss: 0.0999 - val_accuracy: 0.9614\n",
            "Epoch 94/100\n",
            "55/55 [==============================] - 0s 4ms/step - loss: 0.0188 - accuracy: 0.9920 - val_loss: 0.0759 - val_accuracy: 0.9659\n",
            "Epoch 95/100\n",
            "55/55 [==============================] - 0s 3ms/step - loss: 0.0259 - accuracy: 0.9892 - val_loss: 0.0903 - val_accuracy: 0.9682\n",
            "Epoch 96/100\n",
            "55/55 [==============================] - 0s 3ms/step - loss: 0.0252 - accuracy: 0.9909 - val_loss: 0.1407 - val_accuracy: 0.9523\n",
            "Epoch 97/100\n",
            "55/55 [==============================] - 0s 4ms/step - loss: 0.0388 - accuracy: 0.9824 - val_loss: 0.1158 - val_accuracy: 0.9591\n",
            "Epoch 98/100\n",
            "55/55 [==============================] - 0s 4ms/step - loss: 0.0440 - accuracy: 0.9818 - val_loss: 0.2149 - val_accuracy: 0.9455\n",
            "Epoch 99/100\n",
            "55/55 [==============================] - 0s 3ms/step - loss: 0.0428 - accuracy: 0.9790 - val_loss: 0.1170 - val_accuracy: 0.9591\n",
            "Epoch 100/100\n",
            "55/55 [==============================] - 0s 3ms/step - loss: 0.0569 - accuracy: 0.9841 - val_loss: 0.2018 - val_accuracy: 0.9455\n"
          ]
        }
      ]
    },
    {
      "cell_type": "code",
      "source": [
        "acc=history.history['accuracy']\n",
        "val_acc=history.history['val_accuracy']\n",
        "loss=history.history['loss']\n",
        "val_loss=history.history['val_loss']\n",
        "\n",
        "epochs=range(len(acc)) # Get number of epochs\n",
        "\n",
        "#------------------------------------------------\n",
        "# Plot training and validation accuracy per epoch\n",
        "#------------------------------------------------\n",
        "plt.plot(epochs, acc, 'r', \"Training Accuracy\")\n",
        "plt.plot(epochs, val_acc, 'b', \"Validation Accuracy\")\n",
        "plt.title('Training and validation accuracy')\n",
        "plt.show()\n",
        "print(\"\")\n",
        "\n",
        "#------------------------------------------------\n",
        "# Plot training and validation loss per epoch\n",
        "#------------------------------------------------\n",
        "plt.plot(epochs, loss, 'r', \"Training Loss\")\n",
        "plt.plot(epochs, val_loss, 'b', \"Validation Loss\")\n",
        "plt.show()"
      ],
      "metadata": {
        "colab": {
          "base_uri": "https://localhost:8080/",
          "height": 882
        },
        "id": "u0J1N62lEgHP",
        "outputId": "6c29b36c-525b-4ab4-8dfb-b7236ad00188"
      },
      "execution_count": null,
      "outputs": [
        {
          "output_type": "display_data",
          "data": {
            "text/plain": [
              "<Figure size 640x480 with 1 Axes>"
            ],
            "image/png": "[encoded data removed]"
          },
          "metadata": {}
        },
        {
          "output_type": "stream",
          "name": "stdout",
          "text": [
            "\n"
          ]
        },
        {
          "output_type": "display_data",
          "data": {
            "text/plain": [
              "<Figure size 640x480 with 1 Axes>"
            ],
            "image/png": "[encoded data removed]"
          },
          "metadata": {}
        }
      ]
    },
    {
      "cell_type": "code",
      "source": [
        "# Make predictions on new input\n",
        "new_input = np.array([[10,6,5,28.96017885,91.69532178,6.585872508,24.7458198]])\n",
        "predicted_label = np.argmax(model.predict(new_input), axis=-1)\n",
        "predicted_crop = label_encoder.inverse_transform(predicted_label)\n",
        "print(\"Predicted Crop:\", predicted_crop)"
      ],
      "metadata": {
        "colab": {
          "base_uri": "https://localhost:8080/"
        },
        "id": "PiXVcC_aDK8-",
        "outputId": "b7a634ca-5ed2-433b-bd96-3fc02538a95b"
      },
      "execution_count": null,
      "outputs": [
        {
          "output_type": "stream",
          "name": "stdout",
          "text": [
            "1/1 [==============================] - 0s 24ms/step\n",
            "Predicted Crop: ['mungbean']\n"
          ]
        }
      ]
    }
  ]
}