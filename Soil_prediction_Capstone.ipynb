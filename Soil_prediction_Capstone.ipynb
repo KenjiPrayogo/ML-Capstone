{
  "nbformat": 4,
  "nbformat_minor": 0,
  "metadata": {
    "colab": {
      "provenance": [],
      "gpuType": "T4",
      "mount_file_id": "1yzB6__I80LiLfZfDaXIgXk5LXPOSF9GI",
      "authorship_tag": "ABX9TyPaqlStf+ULWVZ5BBAYyHd1",
      "include_colab_link": true
    },
    "kernelspec": {
      "name": "python3",
      "display_name": "Python 3"
    },
    "language_info": {
      "name": "python"
    },
    "accelerator": "GPU",
    "gpuClass": "standard"
  },
  "cells": [
    {
      "cell_type": "markdown",
      "metadata": {
        "id": "view-in-github",
        "colab_type": "text"
      },
      "source": [
        "<a href=\"https://colab.research.google.com/github/KenjiPrayogo/ML-Capstone/blob/main/Soil_prediction_Capstone.ipynb\" target=\"_parent\"><img src=\"https://colab.research.google.com/assets/colab-badge.svg\" alt=\"Open In Colab\"/></a>"
      ]
    },
    {
      "cell_type": "code",
      "source": [
        "import os\n",
        "import numpy as np\n",
        "import tensorflow as tf\n",
        "from tensorflow import keras\n",
        "import matplotlib.pyplot as plt\n",
        "from tensorflow.keras import layers\n",
        "from sklearn.model_selection import train_test_split\n",
        "import pathlib"
      ],
      "metadata": {
        "id": "hF-jMWF-bc7v"
      },
      "execution_count": 1,
      "outputs": []
    },
    {
      "cell_type": "code",
      "source": [
        "!wget --no-check-certificate \\\n",
        "    https://storage.googleapis.com/mledu-datasets/inception_v3_weights_tf_dim_ordering_tf_kernels_notop.h5 \\\n",
        "    -O /tmp/inception_v3_weights_tf_dim_ordering_tf_kernels_notop.h5"
      ],
      "metadata": {
        "colab": {
          "base_uri": "https://localhost:8080/"
        },
        "id": "wyFl0kdfOJOA",
        "outputId": "b11e6df9-1e52-4a9c-9be5-1c626326343e"
      },
      "execution_count": 2,
      "outputs": [
        {
          "output_type": "stream",
          "name": "stdout",
          "text": [
            "--2023-05-30 10:47:32--  https://storage.googleapis.com/mledu-datasets/inception_v3_weights_tf_dim_ordering_tf_kernels_notop.h5\n",
            "Resolving storage.googleapis.com (storage.googleapis.com)... 74.125.142.128, 74.125.195.128, 172.253.117.128, ...\n",
            "Connecting to storage.googleapis.com (storage.googleapis.com)|74.125.142.128|:443... connected.\n",
            "HTTP request sent, awaiting response... 200 OK\n",
            "Length: 87910968 (84M) [application/x-hdf]\n",
            "Saving to: ‘/tmp/inception_v3_weights_tf_dim_ordering_tf_kernels_notop.h5’\n",
            "\n",
            "/tmp/inception_v3_w 100%[===================>]  83.84M   106MB/s    in 0.8s    \n",
            "\n",
            "2023-05-30 10:47:33 (106 MB/s) - ‘/tmp/inception_v3_weights_tf_dim_ordering_tf_kernels_notop.h5’ saved [87910968/87910968]\n",
            "\n"
          ]
        }
      ]
    },
    {
      "cell_type": "code",
      "source": [
        "# Set the path to the image dataset folder\n",
        "dataset_path = '/content/drive/MyDrive/Tanah'\n",
        "\n"
      ],
      "metadata": {
        "id": "T4wRCNiFbfYc"
      },
      "execution_count": 3,
      "outputs": []
    },
    {
      "cell_type": "code",
      "execution_count": 4,
      "metadata": {
        "id": "pLLfwhb9WjTQ"
      },
      "outputs": [],
      "source": [
        "# Define the class labels\n",
        "class_labels = ['01-Aluvial', '02-Andosol', '03-Entisol', '04-Humus', '05-Inceptisol', '06-Laterit', '07-Kapur', '08-Pasir']\n",
        "num_classes = len(class_labels)\n",
        "\n",
        "\n",
        "# Data preprocessing\n",
        "data = []\n",
        "labels = []\n",
        "for i, class_label in enumerate(class_labels):\n",
        "    class_folder_path = os.path.join(dataset_path, class_label)\n",
        "    for image_name in os.listdir(class_folder_path):\n",
        "        image_path = os.path.join(class_folder_path, image_name)\n",
        "        image = keras.preprocessing.image.load_img(image_path, target_size=(224, 224))\n",
        "        image_array = keras.preprocessing.image.img_to_array(image)\n",
        "        data.append(image_array)\n",
        "        labels.append(i)\n",
        "\n"
      ]
    },
    {
      "cell_type": "code",
      "source": [
        "# Convert the data and labels to numpy arrays\n",
        "data = np.array(data)\n",
        "labels = np.array(labels)\n"
      ],
      "metadata": {
        "id": "keCvVXZfb0fg"
      },
      "execution_count": 5,
      "outputs": []
    },
    {
      "cell_type": "code",
      "source": [
        "from tensorflow.keras.applications.inception_v3 import InceptionV3\n",
        "from tensorflow.keras import layers\n",
        "\n",
        "local_weights_file = '/tmp/inception_v3_weights_tf_dim_ordering_tf_kernels_notop.h5'\n",
        "\n",
        "pre_trained_model = InceptionV3(input_shape= (224,224,3),\n",
        "                                include_top = False,\n",
        "                                weights = None)\n",
        "\n",
        "pre_trained_model.load_weights(local_weights_file)\n",
        "\n",
        "for layer in pre_trained_model.layers:\n",
        "  layer.trainable = False"
      ],
      "metadata": {
        "id": "FtgG9lT9P5yr"
      },
      "execution_count": 6,
      "outputs": []
    },
    {
      "cell_type": "code",
      "source": [
        "pre_trained_model.summary()"
      ],
      "metadata": {
        "id": "a4dm_8dZRBYU"
      },
      "execution_count": null,
      "outputs": []
    },
    {
      "cell_type": "code",
      "source": [
        "last_layer = pre_trained_model.get_layer('mixed7')\n",
        "print('last layer output shape: ', last_layer.output_shape)\n",
        "last_output = last_layer.output"
      ],
      "metadata": {
        "colab": {
          "base_uri": "https://localhost:8080/"
        },
        "id": "K9O-sewrRQX9",
        "outputId": "4bda3681-c4a0-46ff-de4e-1b3dfb60f5e9"
      },
      "execution_count": 8,
      "outputs": [
        {
          "output_type": "stream",
          "name": "stdout",
          "text": [
            "last layer output shape:  (None, 12, 12, 768)\n"
          ]
        }
      ]
    },
    {
      "cell_type": "code",
      "source": [
        "from tensorflow.keras import Model\n",
        "\n",
        "# Flatten the output layer to 1 dimension\n",
        "x = layers.Flatten()(last_output)\n",
        "# Add a fully connected layer with 1,024 hidden units and ReLU activation\n",
        "x = layers.Dense(1024, activation='relu')(x)\n",
        "# Add a dropout rate of 0.2\n",
        "x = layers.Dropout(0.2)(x)\n",
        "# Add a final sigmoid layer for classification\n",
        "x = layers.Dense(8, activation='softmax')(x)\n",
        "\n",
        "\n",
        "#Append the dense network to the base model\n",
        "model = Model( pre_trained_model.input, x)\n",
        "\n",
        "# Print the model summary. See your dense network connected at the end.\n",
        "model.summary()\n",
        "\n",
        "# Compile the model\n",
        "model.compile(optimizer=keras.optimizers.Adam(lr=0.001), loss='sparse_categorical_crossentropy', metrics=['accuracy'])\n",
        "\n"
      ],
      "metadata": {
        "id": "k1G412DFbZs8"
      },
      "execution_count": null,
      "outputs": []
    },
    {
      "cell_type": "code",
      "source": [
        "model.summary()"
      ],
      "metadata": {
        "id": "KhNuRhwjSYPk"
      },
      "execution_count": null,
      "outputs": []
    },
    {
      "cell_type": "code",
      "source": [
        "# Normalize the image data\n",
        "data = data / 255.0\n",
        "\n",
        "# Split the dataset into training and validation sets\n",
        "train_data, val_data, train_labels, val_labels = train_test_split(data, labels, test_size=0.2, random_state=42)\n"
      ],
      "metadata": {
        "id": "cA4J8bG8b3-_"
      },
      "execution_count": 11,
      "outputs": []
    },
    {
      "cell_type": "code",
      "source": [
        "train_datagen = keras.preprocessing.image.ImageDataGenerator(\n",
        "        featurewise_center=False,  # set input mean to 0 over the dataset\n",
        "        samplewise_center=False,  # set each sample mean to 0\n",
        "        featurewise_std_normalization=False,  # divide inputs by std of the dataset\n",
        "        samplewise_std_normalization=False,  # divide each input by its std\n",
        "        zca_whitening=False,  # apply ZCA whitening\n",
        "        rotation_range=10,  # randomly rotate images in the range (degrees, 0 to 180)\n",
        "        zoom_range = 0.1, # Randomly zoom image \n",
        "        width_shift_range=0.2,  # randomly shift images horizontally (fraction of total width)\n",
        "        height_shift_range=0.2,  # randomly shift images vertically (fraction of total height)\n",
        "        horizontal_flip=True,  # randomly flip images\n",
        "        vertical_flip=False)  # randomly flip images\n",
        "train_datagen.fit(train_data)"
      ],
      "metadata": {
        "id": "hPYlar5aeUFI"
      },
      "execution_count": 12,
      "outputs": []
    },
    {
      "cell_type": "code",
      "source": [
        "history = model.fit(train_datagen.flow(train_data, train_labels, batch_size=17),\n",
        "                    steps_per_epoch=len(train_data) // 17,\n",
        "                    epochs=50,\n",
        "                    validation_data=(val_data, val_labels))"
      ],
      "metadata": {
        "colab": {
          "base_uri": "https://localhost:8080/"
        },
        "id": "uNIqGoA-cN9w",
        "outputId": "e2aa52da-6262-479a-a73a-f2b7f6d37e51"
      },
      "execution_count": 13,
      "outputs": [
        {
          "output_type": "stream",
          "name": "stdout",
          "text": [
            "Epoch 1/50\n",
            "41/41 [==============================] - 27s 310ms/step - loss: 7.8793 - accuracy: 0.3406 - val_loss: 1.5396 - val_accuracy: 0.5057\n",
            "Epoch 2/50\n",
            "41/41 [==============================] - 8s 186ms/step - loss: 1.1380 - accuracy: 0.6201 - val_loss: 0.6734 - val_accuracy: 0.8182\n",
            "Epoch 3/50\n",
            "41/41 [==============================] - 8s 199ms/step - loss: 0.7583 - accuracy: 0.7336 - val_loss: 0.5217 - val_accuracy: 0.8409\n",
            "Epoch 4/50\n",
            "41/41 [==============================] - 9s 226ms/step - loss: 0.5322 - accuracy: 0.8151 - val_loss: 0.5513 - val_accuracy: 0.8011\n",
            "Epoch 5/50\n",
            "41/41 [==============================] - 8s 191ms/step - loss: 0.5848 - accuracy: 0.8049 - val_loss: 0.3647 - val_accuracy: 0.8864\n",
            "Epoch 6/50\n",
            "41/41 [==============================] - 8s 190ms/step - loss: 0.3973 - accuracy: 0.8603 - val_loss: 0.2937 - val_accuracy: 0.9091\n",
            "Epoch 7/50\n",
            "41/41 [==============================] - 8s 201ms/step - loss: 0.4219 - accuracy: 0.8544 - val_loss: 0.2538 - val_accuracy: 0.9091\n",
            "Epoch 8/50\n",
            "41/41 [==============================] - 9s 218ms/step - loss: 0.3934 - accuracy: 0.8748 - val_loss: 0.3231 - val_accuracy: 0.9148\n",
            "Epoch 9/50\n",
            "41/41 [==============================] - 9s 223ms/step - loss: 0.2980 - accuracy: 0.8981 - val_loss: 0.3208 - val_accuracy: 0.9148\n",
            "Epoch 10/50\n",
            "41/41 [==============================] - 10s 237ms/step - loss: 0.3056 - accuracy: 0.8836 - val_loss: 0.2290 - val_accuracy: 0.9205\n",
            "Epoch 11/50\n",
            "41/41 [==============================] - 8s 204ms/step - loss: 0.2704 - accuracy: 0.9083 - val_loss: 0.2105 - val_accuracy: 0.9545\n",
            "Epoch 12/50\n",
            "41/41 [==============================] - 9s 215ms/step - loss: 0.3157 - accuracy: 0.8937 - val_loss: 0.2586 - val_accuracy: 0.9261\n",
            "Epoch 13/50\n",
            "41/41 [==============================] - 8s 198ms/step - loss: 0.2943 - accuracy: 0.9025 - val_loss: 0.2710 - val_accuracy: 0.9318\n",
            "Epoch 14/50\n",
            "41/41 [==============================] - 8s 186ms/step - loss: 0.2577 - accuracy: 0.9156 - val_loss: 0.2406 - val_accuracy: 0.9432\n",
            "Epoch 15/50\n",
            "41/41 [==============================] - 9s 224ms/step - loss: 0.2317 - accuracy: 0.9141 - val_loss: 0.2917 - val_accuracy: 0.9318\n",
            "Epoch 16/50\n",
            "41/41 [==============================] - 9s 210ms/step - loss: 0.2469 - accuracy: 0.9025 - val_loss: 0.1929 - val_accuracy: 0.9432\n",
            "Epoch 17/50\n",
            "41/41 [==============================] - 8s 194ms/step - loss: 0.2013 - accuracy: 0.9316 - val_loss: 0.1578 - val_accuracy: 0.9489\n",
            "Epoch 18/50\n",
            "41/41 [==============================] - 8s 201ms/step - loss: 0.2183 - accuracy: 0.9229 - val_loss: 0.1519 - val_accuracy: 0.9545\n",
            "Epoch 19/50\n",
            "41/41 [==============================] - 9s 225ms/step - loss: 0.1751 - accuracy: 0.9301 - val_loss: 0.2653 - val_accuracy: 0.9489\n",
            "Epoch 20/50\n",
            "41/41 [==============================] - 8s 203ms/step - loss: 0.1519 - accuracy: 0.9549 - val_loss: 0.1832 - val_accuracy: 0.9432\n",
            "Epoch 21/50\n",
            "41/41 [==============================] - 8s 185ms/step - loss: 0.1605 - accuracy: 0.9520 - val_loss: 0.1733 - val_accuracy: 0.9489\n",
            "Epoch 22/50\n",
            "41/41 [==============================] - 9s 225ms/step - loss: 0.1451 - accuracy: 0.9505 - val_loss: 0.1637 - val_accuracy: 0.9545\n",
            "Epoch 23/50\n",
            "41/41 [==============================] - 9s 212ms/step - loss: 0.1850 - accuracy: 0.9301 - val_loss: 0.2421 - val_accuracy: 0.9318\n",
            "Epoch 24/50\n",
            "41/41 [==============================] - 8s 190ms/step - loss: 0.1706 - accuracy: 0.9432 - val_loss: 0.1519 - val_accuracy: 0.9602\n",
            "Epoch 25/50\n",
            "41/41 [==============================] - 9s 228ms/step - loss: 0.2217 - accuracy: 0.9199 - val_loss: 0.1660 - val_accuracy: 0.9489\n",
            "Epoch 26/50\n",
            "41/41 [==============================] - 8s 194ms/step - loss: 0.2180 - accuracy: 0.9301 - val_loss: 0.1072 - val_accuracy: 0.9489\n",
            "Epoch 27/50\n",
            "41/41 [==============================] - 8s 187ms/step - loss: 0.1659 - accuracy: 0.9491 - val_loss: 0.2222 - val_accuracy: 0.9318\n",
            "Epoch 28/50\n",
            "41/41 [==============================] - 9s 225ms/step - loss: 0.1533 - accuracy: 0.9447 - val_loss: 0.1684 - val_accuracy: 0.9432\n",
            "Epoch 29/50\n",
            "41/41 [==============================] - 9s 217ms/step - loss: 0.1607 - accuracy: 0.9432 - val_loss: 0.2112 - val_accuracy: 0.9205\n",
            "Epoch 30/50\n",
            "41/41 [==============================] - 8s 189ms/step - loss: 0.1202 - accuracy: 0.9636 - val_loss: 0.1249 - val_accuracy: 0.9545\n",
            "Epoch 31/50\n",
            "41/41 [==============================] - 9s 221ms/step - loss: 0.1644 - accuracy: 0.9491 - val_loss: 0.3064 - val_accuracy: 0.9205\n",
            "Epoch 32/50\n",
            "41/41 [==============================] - 9s 230ms/step - loss: 0.1965 - accuracy: 0.9403 - val_loss: 0.1865 - val_accuracy: 0.9545\n",
            "Epoch 33/50\n",
            "41/41 [==============================] - 8s 190ms/step - loss: 0.1637 - accuracy: 0.9484 - val_loss: 0.2327 - val_accuracy: 0.9318\n",
            "Epoch 34/50\n",
            "41/41 [==============================] - 9s 221ms/step - loss: 0.1612 - accuracy: 0.9491 - val_loss: 0.3258 - val_accuracy: 0.9034\n",
            "Epoch 35/50\n",
            "41/41 [==============================] - 8s 207ms/step - loss: 0.1674 - accuracy: 0.9403 - val_loss: 0.2204 - val_accuracy: 0.9318\n",
            "Epoch 36/50\n",
            "41/41 [==============================] - 8s 186ms/step - loss: 0.1335 - accuracy: 0.9549 - val_loss: 0.2647 - val_accuracy: 0.9318\n",
            "Epoch 37/50\n",
            "41/41 [==============================] - 9s 227ms/step - loss: 0.1757 - accuracy: 0.9301 - val_loss: 0.1966 - val_accuracy: 0.9545\n",
            "Epoch 38/50\n",
            "41/41 [==============================] - 9s 224ms/step - loss: 0.1100 - accuracy: 0.9665 - val_loss: 0.1846 - val_accuracy: 0.9545\n",
            "Epoch 39/50\n",
            "41/41 [==============================] - 9s 225ms/step - loss: 0.1121 - accuracy: 0.9592 - val_loss: 0.1231 - val_accuracy: 0.9602\n",
            "Epoch 40/50\n",
            "41/41 [==============================] - 8s 202ms/step - loss: 0.1062 - accuracy: 0.9563 - val_loss: 0.1775 - val_accuracy: 0.9545\n",
            "Epoch 41/50\n",
            "41/41 [==============================] - 9s 218ms/step - loss: 0.1222 - accuracy: 0.9636 - val_loss: 0.1883 - val_accuracy: 0.9432\n",
            "Epoch 42/50\n",
            "41/41 [==============================] - 9s 216ms/step - loss: 0.0928 - accuracy: 0.9651 - val_loss: 0.1129 - val_accuracy: 0.9659\n",
            "Epoch 43/50\n",
            "41/41 [==============================] - 8s 196ms/step - loss: 0.0862 - accuracy: 0.9753 - val_loss: 0.1693 - val_accuracy: 0.9545\n",
            "Epoch 44/50\n",
            "41/41 [==============================] - 9s 209ms/step - loss: 0.0950 - accuracy: 0.9578 - val_loss: 0.2061 - val_accuracy: 0.9545\n",
            "Epoch 45/50\n",
            "41/41 [==============================] - 9s 224ms/step - loss: 0.1729 - accuracy: 0.9403 - val_loss: 0.2449 - val_accuracy: 0.9432\n",
            "Epoch 46/50\n",
            "41/41 [==============================] - 9s 209ms/step - loss: 0.1457 - accuracy: 0.9549 - val_loss: 0.1952 - val_accuracy: 0.9659\n",
            "Epoch 47/50\n",
            "41/41 [==============================] - 8s 185ms/step - loss: 0.1918 - accuracy: 0.9330 - val_loss: 0.0787 - val_accuracy: 0.9716\n",
            "Epoch 48/50\n",
            "41/41 [==============================] - 9s 218ms/step - loss: 0.1318 - accuracy: 0.9592 - val_loss: 0.1732 - val_accuracy: 0.9489\n",
            "Epoch 49/50\n",
            "41/41 [==============================] - 8s 206ms/step - loss: 0.1289 - accuracy: 0.9563 - val_loss: 0.2661 - val_accuracy: 0.9375\n",
            "Epoch 50/50\n",
            "41/41 [==============================] - 8s 198ms/step - loss: 0.0783 - accuracy: 0.9738 - val_loss: 0.2223 - val_accuracy: 0.9545\n"
          ]
        }
      ]
    },
    {
      "cell_type": "code",
      "source": [
        "acc=history.history['accuracy']\n",
        "val_acc=history.history['val_accuracy']\n",
        "loss=history.history['loss']\n",
        "val_loss=history.history['val_loss']\n",
        "\n",
        "epochs=range(len(acc)) # Get number of epochs\n",
        "\n",
        "#------------------------------------------------\n",
        "# Plot training and validation accuracy per epoch\n",
        "#------------------------------------------------\n",
        "plt.plot(epochs, acc, 'r', \"Training Accuracy\")\n",
        "plt.plot(epochs, val_acc, 'b', \"Validation Accuracy\")\n",
        "plt.title('Training and validation accuracy')\n",
        "plt.show()\n",
        "print(\"\")\n",
        "\n",
        "#------------------------------------------------\n",
        "# Plot training and validation loss per epoch\n",
        "#------------------------------------------------\n",
        "plt.plot(epochs, loss, 'r', \"Training Loss\")\n",
        "plt.plot(epochs, val_loss, 'b', \"Validation Loss\")\n",
        "plt.show()"
      ],
      "metadata": {
        "colab": {
          "base_uri": "https://localhost:8080/",
          "height": 882
        },
        "id": "UjSEhjLfiD8b",
        "outputId": "fe34d9e3-9cac-4885-f598-3f8e65a9195a"
      },
      "execution_count": 14,
      "outputs": [
        {
          "output_type": "display_data",
          "data": {
            "text/plain": [
              "<Figure size 640x480 with 1 Axes>"
            ],
            "image/png": "[encoded data removed]"
          },
          "metadata": {}
        },
        {
          "output_type": "stream",
          "name": "stdout",
          "text": [
            "\n"
          ]
        },
        {
          "output_type": "display_data",
          "data": {
            "text/plain": [
              "<Figure size 640x480 with 1 Axes>"
            ],
            "image/png": "[encoded data removed]"
          },
          "metadata": {}
        }
      ]
    },
    {
      "cell_type": "code",
      "source": [
        " # CODE BLOCK FOR OLDER VERSIONS OF SAFARI\n",
        "\n",
        "import numpy as np\n",
        "from tensorflow.keras.utils import load_img, img_to_array\n",
        "import os\n",
        "\n",
        "images = os.listdir(\"/tmp/images\")\n",
        "\n",
        "print(images)\n",
        "\n",
        "for i in images:\n",
        "  print()\n",
        " # predicting images\n",
        "  path = '/tmp/images/' + i\n",
        "  img = load_img(path, target_size=(224, 224))\n",
        "  x = img_to_array(img)\n",
        "  x /= 255\n",
        "  x = np.expand_dims(x, axis=0)\n",
        "\n",
        "  images = np.vstack([x])\n",
        "  classes = model.predict(images, batch_size=10)\n",
        "  pred = np.argmax(classes, axis=-1)\n",
        "  predicted_label = class_labels[pred[0]]\n",
        "\n",
        "  print(\"Predicted Label:\", predicted_label)\n",
        "  print(path)\n",
        "  #print(\"Prediction Scores:\", classes)\n",
        "  "
      ],
      "metadata": {
        "colab": {
          "base_uri": "https://localhost:8080/"
        },
        "id": "GZ5VtA2yiQKK",
        "outputId": "549e03d9-b76b-4a2e-9240-cec6ee7092b8"
      },
      "execution_count": null,
      "outputs": [
        {
          "output_type": "stream",
          "name": "stdout",
          "text": [
            "['laterit-014.jpg', 'aluvial3.jpg.webp', 'shutterstock_389823613.jpg', 'entisol-085.jpg', 'andosol-060.jpg', 'glen-carrie-ib1jujyqob4-unsplash-easy-resizecom-1b6d1cd853484267ae86171b72dde9ea-203cacbc16e5ed7f1ba584dace0e1f12_600x400.jpg', 'soil-profile-Inceptisol-accumulation-humus-clay-minerals.jpg.webp', 'pasir-044.jpg', 'entisol-094.jpg', 'entisol-109.jpg', 'kapur-015.jpg', 'kapur-002.jpg', 'laterit-007.jpg', 'kapur-093.jpg', 'aluvial.jpg', 'entisol-079.jpg', 'istockphoto-1206172322-1024x1024.jpg', 'fresh-2386786-1920_ver_1.jpg', 'inceptisol-002.jpg', 'aluvial2.jpg', 'tanah-aluvial.jpg', 'humus-026.jpg', 'aluvial-100.jpg', 'image5.jpg', 'kapur-005.jpg', 'inceptisol-099.jpg', 'inceptisol-038.jpg', 'tanah-podsol.jpg', 'laterit-010.jpg', '2.-Ciri-Tanah-Aluvial-Proses-Terbentuknya-Hingga-Manfaat-Untuk-Pertanian.jpg']\n",
            "\n",
            "1/1 [==============================] - 0s 47ms/step\n",
            "Predicted Label: 06-Laterit\n",
            "/tmp/images/laterit-014.jpg\n",
            "\n",
            "1/1 [==============================] - 0s 39ms/step\n",
            "Predicted Label: 08-Pasir\n",
            "/tmp/images/aluvial3.jpg.webp\n",
            "\n",
            "1/1 [==============================] - 0s 37ms/step\n",
            "Predicted Label: 04-Humus\n",
            "/tmp/images/shutterstock_389823613.jpg\n",
            "\n",
            "1/1 [==============================] - 0s 38ms/step\n",
            "Predicted Label: 03-Entisol\n",
            "/tmp/images/entisol-085.jpg\n",
            "\n",
            "1/1 [==============================] - 0s 40ms/step\n",
            "Predicted Label: 02-Andosol\n",
            "/tmp/images/andosol-060.jpg\n",
            "\n",
            "1/1 [==============================] - 0s 42ms/step\n",
            "Predicted Label: 08-Pasir\n",
            "/tmp/images/glen-carrie-ib1jujyqob4-unsplash-easy-resizecom-1b6d1cd853484267ae86171b72dde9ea-203cacbc16e5ed7f1ba584dace0e1f12_600x400.jpg\n",
            "\n",
            "1/1 [==============================] - 0s 42ms/step\n",
            "Predicted Label: 04-Humus\n",
            "/tmp/images/soil-profile-Inceptisol-accumulation-humus-clay-minerals.jpg.webp\n",
            "\n",
            "1/1 [==============================] - 0s 41ms/step\n",
            "Predicted Label: 08-Pasir\n",
            "/tmp/images/pasir-044.jpg\n",
            "\n",
            "1/1 [==============================] - 0s 36ms/step\n",
            "Predicted Label: 03-Entisol\n",
            "/tmp/images/entisol-094.jpg\n",
            "\n",
            "1/1 [==============================] - 0s 41ms/step\n",
            "Predicted Label: 03-Entisol\n",
            "/tmp/images/entisol-109.jpg\n",
            "\n",
            "1/1 [==============================] - 0s 50ms/step\n",
            "Predicted Label: 07-Kapur\n",
            "/tmp/images/kapur-015.jpg\n",
            "\n",
            "1/1 [==============================] - 0s 37ms/step\n",
            "Predicted Label: 07-Kapur\n",
            "/tmp/images/kapur-002.jpg\n",
            "\n",
            "1/1 [==============================] - 0s 45ms/step\n",
            "Predicted Label: 06-Laterit\n",
            "/tmp/images/laterit-007.jpg\n",
            "\n",
            "1/1 [==============================] - 0s 45ms/step\n",
            "Predicted Label: 07-Kapur\n",
            "/tmp/images/kapur-093.jpg\n",
            "\n",
            "1/1 [==============================] - 0s 45ms/step\n",
            "Predicted Label: 01-Aluvial\n",
            "/tmp/images/aluvial.jpg\n",
            "\n",
            "1/1 [==============================] - 0s 42ms/step\n",
            "Predicted Label: 03-Entisol\n",
            "/tmp/images/entisol-079.jpg\n",
            "\n",
            "1/1 [==============================] - 0s 38ms/step\n",
            "Predicted Label: 04-Humus\n",
            "/tmp/images/istockphoto-1206172322-1024x1024.jpg\n",
            "\n",
            "1/1 [==============================] - 0s 44ms/step\n",
            "Predicted Label: 04-Humus\n",
            "/tmp/images/fresh-2386786-1920_ver_1.jpg\n",
            "\n",
            "1/1 [==============================] - 0s 41ms/step\n",
            "Predicted Label: 05-Inceptisol\n",
            "/tmp/images/inceptisol-002.jpg\n",
            "\n",
            "1/1 [==============================] - 0s 49ms/step\n",
            "Predicted Label: 08-Pasir\n",
            "/tmp/images/aluvial2.jpg\n",
            "\n",
            "1/1 [==============================] - 0s 31ms/step\n",
            "Predicted Label: 01-Aluvial\n",
            "/tmp/images/tanah-aluvial.jpg\n",
            "\n",
            "1/1 [==============================] - 0s 25ms/step\n",
            "Predicted Label: 04-Humus\n",
            "/tmp/images/humus-026.jpg\n",
            "\n",
            "1/1 [==============================] - 0s 26ms/step\n",
            "Predicted Label: 01-Aluvial\n",
            "/tmp/images/aluvial-100.jpg\n",
            "\n",
            "1/1 [==============================] - 0s 26ms/step\n",
            "Predicted Label: 08-Pasir\n",
            "/tmp/images/image5.jpg\n",
            "\n",
            "1/1 [==============================] - 0s 24ms/step\n",
            "Predicted Label: 07-Kapur\n",
            "/tmp/images/kapur-005.jpg\n",
            "\n",
            "1/1 [==============================] - 0s 26ms/step\n",
            "Predicted Label: 05-Inceptisol\n",
            "/tmp/images/inceptisol-099.jpg\n",
            "\n",
            "1/1 [==============================] - 0s 27ms/step\n",
            "Predicted Label: 05-Inceptisol\n",
            "/tmp/images/inceptisol-038.jpg\n",
            "\n",
            "1/1 [==============================] - 0s 26ms/step\n",
            "Predicted Label: 02-Andosol\n",
            "/tmp/images/tanah-podsol.jpg\n",
            "\n",
            "1/1 [==============================] - 0s 26ms/step\n",
            "Predicted Label: 06-Laterit\n",
            "/tmp/images/laterit-010.jpg\n",
            "\n",
            "1/1 [==============================] - 0s 26ms/step\n",
            "Predicted Label: 01-Aluvial\n",
            "/tmp/images/2.-Ciri-Tanah-Aluvial-Proses-Terbentuknya-Hingga-Manfaat-Untuk-Pertanian.jpg\n"
          ]
        }
      ]
    },
    {
      "cell_type": "code",
      "source": [
        "# Save model weights and architecture\n",
        "model.save_weights('/content/drive/MyDrive/saved_models/model_weights.h5')\n",
        "model.save('/content/drive/MyDrive/saved_models/model_saved.h5')\n"
      ],
      "metadata": {
        "id": "4BzMVD3SsSHz"
      },
      "execution_count": null,
      "outputs": []
    },
    {
      "cell_type": "code",
      "source": [
        "from tensorflow.keras.models import load_model\n",
        "\n",
        "# Load model architectur\n",
        "loaded_model = load_model('/content/drive/MyDrive/saved_models/model_saved.h5')\n",
        "\n",
        "# Load model weights\n",
        "loaded_model.load_weights('/content/drive/MyDrive/saved_models/model_weights.h5')\n"
      ],
      "metadata": {
        "id": "gaoiSlJ3u_Ls"
      },
      "execution_count": 2,
      "outputs": []
    },
    {
      "cell_type": "code",
      "source": [
        "export = '/content/drive/MyDrive/saved_models/saved_model'\n",
        "tf.saved_model.save(model, export)"
      ],
      "metadata": {
        "colab": {
          "base_uri": "https://localhost:8080/",
          "height": 181
        },
        "id": "zF10waN53-aG",
        "outputId": "65c4e102-66c0-4fd9-f445-bc46e10f6cce"
      },
      "execution_count": 5,
      "outputs": [
        {
          "output_type": "error",
          "ename": "NameError",
          "evalue": "ignored",
          "traceback": [
            "\u001b[0;31m---------------------------------------------------------------------------\u001b[0m",
            "\u001b[0;31mNameError\u001b[0m                                 Traceback (most recent call last)",
            "\u001b[0;32m<ipython-input-5-17c2357e04a8>\u001b[0m in \u001b[0;36m<cell line: 2>\u001b[0;34m()\u001b[0m\n\u001b[1;32m      1\u001b[0m \u001b[0mexport\u001b[0m \u001b[0;34m=\u001b[0m \u001b[0;34m'/content/drive/MyDrive/saved_models/saved_model'\u001b[0m\u001b[0;34m\u001b[0m\u001b[0;34m\u001b[0m\u001b[0m\n\u001b[0;32m----> 2\u001b[0;31m \u001b[0mtf\u001b[0m\u001b[0;34m.\u001b[0m\u001b[0msaved_model\u001b[0m\u001b[0;34m.\u001b[0m\u001b[0msave\u001b[0m\u001b[0;34m(\u001b[0m\u001b[0mmodel\u001b[0m\u001b[0;34m,\u001b[0m \u001b[0mexport\u001b[0m\u001b[0;34m)\u001b[0m\u001b[0;34m\u001b[0m\u001b[0;34m\u001b[0m\u001b[0m\n\u001b[0m",
            "\u001b[0;31mNameError\u001b[0m: name 'model' is not defined"
          ]
        }
      ]
    },
    {
      "cell_type": "code",
      "source": [
        "# Select mode of optimization\n",
        "mode = \"Storage\" \n",
        "\n",
        "if mode == 'Storage':\n",
        "    optimization = tf.lite.Optimize.OPTIMIZE_FOR_SIZE\n",
        "elif mode == 'Speed':\n",
        "    optimization = tf.lite.Optimize.OPTIMIZE_FOR_LATENCY\n",
        "else:\n",
        "    optimization = tf.lite.Optimize.DEFAULT"
      ],
      "metadata": {
        "id": "gTUgTsGFECn2"
      },
      "execution_count": 16,
      "outputs": []
    },
    {
      "cell_type": "code",
      "source": [
        "converter = tf.lite.TFLiteConverter.from_saved_model(export)\n",
        "converter.optimizations = [optimization]\n",
        "tflite_model = converter.convert();\n"
      ],
      "metadata": {
        "colab": {
          "base_uri": "https://localhost:8080/",
          "height": 198
        },
        "id": "zcqjYUEx1ymI",
        "outputId": "a4a0ca2d-d129-4059-cf29-b8f3c987097c"
      },
      "execution_count": 4,
      "outputs": [
        {
          "output_type": "error",
          "ename": "NameError",
          "evalue": "ignored",
          "traceback": [
            "\u001b[0;31m---------------------------------------------------------------------------\u001b[0m",
            "\u001b[0;31mNameError\u001b[0m                                 Traceback (most recent call last)",
            "\u001b[0;32m<ipython-input-4-7a1d7ae198a6>\u001b[0m in \u001b[0;36m<cell line: 1>\u001b[0;34m()\u001b[0m\n\u001b[0;32m----> 1\u001b[0;31m \u001b[0mconverter\u001b[0m \u001b[0;34m=\u001b[0m \u001b[0mtf\u001b[0m\u001b[0;34m.\u001b[0m\u001b[0mlite\u001b[0m\u001b[0;34m.\u001b[0m\u001b[0mTFLiteConverter\u001b[0m\u001b[0;34m.\u001b[0m\u001b[0mfrom_saved_model\u001b[0m\u001b[0;34m(\u001b[0m\u001b[0mexport\u001b[0m\u001b[0;34m)\u001b[0m\u001b[0;34m\u001b[0m\u001b[0;34m\u001b[0m\u001b[0m\n\u001b[0m\u001b[1;32m      2\u001b[0m \u001b[0mconverter\u001b[0m\u001b[0;34m.\u001b[0m\u001b[0moptimizations\u001b[0m \u001b[0;34m=\u001b[0m \u001b[0;34m[\u001b[0m\u001b[0moptimization\u001b[0m\u001b[0;34m]\u001b[0m\u001b[0;34m\u001b[0m\u001b[0;34m\u001b[0m\u001b[0m\n\u001b[1;32m      3\u001b[0m \u001b[0mtflite_model\u001b[0m \u001b[0;34m=\u001b[0m \u001b[0mconverter\u001b[0m\u001b[0;34m.\u001b[0m\u001b[0mconvert\u001b[0m\u001b[0;34m(\u001b[0m\u001b[0;34m)\u001b[0m\u001b[0;34m;\u001b[0m\u001b[0;34m\u001b[0m\u001b[0;34m\u001b[0m\u001b[0m\n",
            "\u001b[0;31mNameError\u001b[0m: name 'export' is not defined"
          ]
        }
      ]
    },
    {
      "cell_type": "code",
      "source": [
        "tflite_model_file = pathlib.Path('./model.tflite')\n",
        "tflite_model_file.write_bytes(tflite_model)"
      ],
      "metadata": {
        "colab": {
          "base_uri": "https://localhost:8080/",
          "height": 181
        },
        "id": "XdYmDBP6IeAD",
        "outputId": "3b59b0e0-e2c8-47cd-af14-7ed9d3e78c16"
      },
      "execution_count": 3,
      "outputs": [
        {
          "output_type": "error",
          "ename": "NameError",
          "evalue": "ignored",
          "traceback": [
            "\u001b[0;31m---------------------------------------------------------------------------\u001b[0m",
            "\u001b[0;31mNameError\u001b[0m                                 Traceback (most recent call last)",
            "\u001b[0;32m<ipython-input-3-b857e864cf5f>\u001b[0m in \u001b[0;36m<cell line: 2>\u001b[0;34m()\u001b[0m\n\u001b[1;32m      1\u001b[0m \u001b[0mtflite_model_file\u001b[0m \u001b[0;34m=\u001b[0m \u001b[0mpathlib\u001b[0m\u001b[0;34m.\u001b[0m\u001b[0mPath\u001b[0m\u001b[0;34m(\u001b[0m\u001b[0;34m'./model.tflite'\u001b[0m\u001b[0;34m)\u001b[0m\u001b[0;34m\u001b[0m\u001b[0;34m\u001b[0m\u001b[0m\n\u001b[0;32m----> 2\u001b[0;31m \u001b[0mtflite_model_file\u001b[0m\u001b[0;34m.\u001b[0m\u001b[0mwrite_bytes\u001b[0m\u001b[0;34m(\u001b[0m\u001b[0mtflite_model\u001b[0m\u001b[0;34m)\u001b[0m\u001b[0;34m\u001b[0m\u001b[0;34m\u001b[0m\u001b[0m\n\u001b[0m",
            "\u001b[0;31mNameError\u001b[0m: name 'tflite_model' is not defined"
          ]
        }
      ]
    },
    {
      "cell_type": "code",
      "source": [
        "prediction = loaded_model.predict()"
      ],
      "metadata": {
        "id": "a-wJyWPYpeAs"
      },
      "execution_count": null,
      "outputs": []
    },
    {
      "cell_type": "code",
      "source": [
        " # CODE BLOCK FOR OLDER VERSIONS OF SAFARI\n",
        "\n",
        "import numpy as np\n",
        "from tensorflow.keras.utils import load_img, img_to_array\n",
        "import os\n",
        "\n",
        "images = os.listdir(\"/tmp/images\")\n",
        "\n",
        "print(images)\n",
        "\n",
        "for i in images:\n",
        "  print()\n",
        " # predicting images\n",
        "  path = '/tmp/images/' + i\n",
        "  img = load_img(path, target_size=(224, 224))\n",
        "  x = img_to_array(img)\n",
        "  x /= 255\n",
        "  x = np.expand_dims(x, axis=0)\n",
        "\n",
        "  images = np.vstack([x])\n",
        "  classes = loaded_model.predict(images, batch_size=10)\n",
        "  pred = np.argmax(classes, axis=-1)\n",
        "  predicted_label = class_labels[pred[0]]\n",
        "\n",
        "  print(\"Predicted Label:\", predicted_label)\n",
        "  print(path)\n",
        "  #print(\"Prediction Scores:\", classes)\n",
        "  "
      ],
      "metadata": {
        "colab": {
          "base_uri": "https://localhost:8080/",
          "height": 232
        },
        "id": "LTGYYJQapkNB",
        "outputId": "2e33024a-888c-46f0-f7b7-dacf85e1df67"
      },
      "execution_count": null,
      "outputs": [
        {
          "output_type": "error",
          "ename": "FileNotFoundError",
          "evalue": "ignored",
          "traceback": [
            "\u001b[0;31m---------------------------------------------------------------------------\u001b[0m",
            "\u001b[0;31mFileNotFoundError\u001b[0m                         Traceback (most recent call last)",
            "\u001b[0;32m<ipython-input-2-a17ca98f4372>\u001b[0m in \u001b[0;36m<cell line: 7>\u001b[0;34m()\u001b[0m\n\u001b[1;32m      5\u001b[0m \u001b[0;32mimport\u001b[0m \u001b[0mos\u001b[0m\u001b[0;34m\u001b[0m\u001b[0;34m\u001b[0m\u001b[0m\n\u001b[1;32m      6\u001b[0m \u001b[0;34m\u001b[0m\u001b[0m\n\u001b[0;32m----> 7\u001b[0;31m \u001b[0mimages\u001b[0m \u001b[0;34m=\u001b[0m \u001b[0mos\u001b[0m\u001b[0;34m.\u001b[0m\u001b[0mlistdir\u001b[0m\u001b[0;34m(\u001b[0m\u001b[0;34m\"/tmp/images\"\u001b[0m\u001b[0;34m)\u001b[0m\u001b[0;34m\u001b[0m\u001b[0;34m\u001b[0m\u001b[0m\n\u001b[0m\u001b[1;32m      8\u001b[0m \u001b[0;34m\u001b[0m\u001b[0m\n\u001b[1;32m      9\u001b[0m \u001b[0mprint\u001b[0m\u001b[0;34m(\u001b[0m\u001b[0mimages\u001b[0m\u001b[0;34m)\u001b[0m\u001b[0;34m\u001b[0m\u001b[0;34m\u001b[0m\u001b[0m\n",
            "\u001b[0;31mFileNotFoundError\u001b[0m: [Errno 2] No such file or directory: '/tmp/images'"
          ]
        }
      ]
    }
  ]
}