{
  "nbformat": 4,
  "nbformat_minor": 0,
  "metadata": {
    "colab": {
      "provenance": [],
      "authorship_tag": "ABX9TyNUvVY19unlIErM8dxJl3Ti",
      "include_colab_link": true
    },
    "kernelspec": {
      "name": "python3",
      "display_name": "Python 3"
    },
    "language_info": {
      "name": "python"
    }
  },
  "cells": [
    {
      "cell_type": "markdown",
      "metadata": {
        "id": "view-in-github",
        "colab_type": "text"
      },
      "source": [
        "<a href=\"https://colab.research.google.com/github/KenjiPrayogo/ML-Capstone/blob/main/Fertilizer_Capstone.ipynb\" target=\"_parent\"><img src=\"https://colab.research.google.com/assets/colab-badge.svg\" alt=\"Open In Colab\"/></a>"
      ]
    },
    {
      "cell_type": "code",
      "source": [
        "import pandas as pd\n",
        "import numpy as np\n",
        "import tensorflow as tf\n",
        "from sklearn.model_selection import train_test_split\n",
        "from sklearn.preprocessing import LabelEncoder, StandardScaler\n"
      ],
      "metadata": {
        "id": "-cjuvkYvQXK_"
      },
      "execution_count": null,
      "outputs": []
    },
    {
      "cell_type": "code",
      "execution_count": null,
      "metadata": {
        "colab": {
          "base_uri": "https://localhost:8080/"
        },
        "id": "8AQpxU65KVHk",
        "outputId": "e85f0c5c-8497-4f42-bf5f-58d37cd862d4"
      },
      "outputs": [
        {
          "output_type": "stream",
          "name": "stdout",
          "text": [
            "     Temparature  Humidity   Moisture Soil Type  Crop Type  Nitrogen  \\\n",
            "0             26         52        38     Sandy      Maize        37   \n",
            "1             29         52        45     Loamy  Sugarcane        12   \n",
            "2             34         65        62     Black     Cotton         7   \n",
            "3             32         62        34       Red    Tobacco        22   \n",
            "4             28         54        46    Clayey      Paddy        35   \n",
            "..           ...        ...       ...       ...        ...       ...   \n",
            "200           29         58        34     Sandy    Millets        15   \n",
            "201           27         54        30    Clayey     Pulses        13   \n",
            "202           30         60        58     Loamy  Sugarcane        10   \n",
            "203           32         62        34       Red    Tobacco        22   \n",
            "204           34         65        60     Black  Sugarcane        35   \n",
            "\n",
            "     Potassium  Phosphorous  \n",
            "0            0            0  \n",
            "1            0           36  \n",
            "2            9           30  \n",
            "3            0           20  \n",
            "4            0            0  \n",
            "..         ...          ...  \n",
            "200          0           37  \n",
            "201          0           13  \n",
            "202          7           32  \n",
            "203          0           24  \n",
            "204          0            0  \n",
            "\n",
            "[205 rows x 8 columns]\n",
            "0          Urea\n",
            "1           DAP\n",
            "2      14-35-14\n",
            "3         28-28\n",
            "4          Urea\n",
            "         ...   \n",
            "200         DAP\n",
            "201       20-20\n",
            "202    14-35-14\n",
            "203       28-28\n",
            "204        Urea\n",
            "Name: Fertilizer Name, Length: 205, dtype: object\n"
          ]
        }
      ],
      "source": [
        "import pandas as pd\n",
        "import numpy as np\n",
        "from sklearn.model_selection import train_test_split\n",
        "from sklearn.preprocessing import LabelEncoder\n",
        "from sklearn.metrics import accuracy_score\n",
        "import tensorflow as tf\n",
        "from tensorflow.keras.models import Sequential\n",
        "from tensorflow.keras.layers import Dense\n",
        "import matplotlib.pyplot as plt\n",
        "\n",
        "# Load the dataset\n",
        "df = pd.read_csv('/content/fertilizer.csv')\n",
        "\n",
        "# Split features and labels\n",
        "X = df.drop('Fertilizer Name', axis=1)\n",
        "y = df['Fertilizer Name']\n",
        "\n",
        "print(X)\n",
        "print(y)\n"
      ]
    },
    {
      "cell_type": "code",
      "source": [
        "# Encode the categorical labels into numerical values\n",
        "label_encoder = LabelEncoder()\n",
        "y = label_encoder.fit_transform(y)\n",
        "categorical_cols = ['Soil Type', 'Crop Type']\n",
        "label_encoders = {}\n",
        "for col in categorical_cols:\n",
        "    label_encoders[col] = LabelEncoder()\n",
        "    X[col] = label_encoders[col].fit_transform(X[col].values)\n",
        "print(X)\n",
        "scaler = StandardScaler()\n",
        "X = scaler.fit_transform(X)\n",
        "\n",
        "# Split the data into training and testing sets\n",
        "X_train, X_test, y_train, y_test = train_test_split(X, y, test_size=0.2, random_state=42)\n",
        "\n",
        "print(X_train)\n",
        "print(y_train)\n"
      ],
      "metadata": {
        "colab": {
          "base_uri": "https://localhost:8080/"
        },
        "id": "NUR6siHbLNkh",
        "outputId": "2f91882a-ed9c-48c4-8431-3fd5feaab616"
      },
      "execution_count": null,
      "outputs": [
        {
          "output_type": "stream",
          "name": "stdout",
          "text": [
            "     Temparature  Humidity   Moisture  Soil Type  Crop Type  Nitrogen  \\\n",
            "0             26         52        38          4          3        37   \n",
            "1             29         52        45          2          8        12   \n",
            "2             34         65        62          0          1         7   \n",
            "3             32         62        34          3          9        22   \n",
            "4             28         54        46          1          6        35   \n",
            "..           ...        ...       ...        ...        ...       ...   \n",
            "200           29         58        34          4          4        15   \n",
            "201           27         54        30          1          7        13   \n",
            "202           30         60        58          2          8        10   \n",
            "203           32         62        34          3          9        22   \n",
            "204           34         65        60          0          8        35   \n",
            "\n",
            "     Potassium  Phosphorous  \n",
            "0            0            0  \n",
            "1            0           36  \n",
            "2            9           30  \n",
            "3            0           20  \n",
            "4            0            0  \n",
            "..         ...          ...  \n",
            "200          0           37  \n",
            "201          0           13  \n",
            "202          7           32  \n",
            "203          0           24  \n",
            "204          0            0  \n",
            "\n",
            "[205 rows x 8 columns]\n",
            "[[ 1.0588749   1.0084832   1.19631425 ... -0.87275437 -0.57923938\n",
            "  -0.41853156]\n",
            " [ 2.17491271  1.84752158  0.39340418 ... -0.96167815  0.86008271\n",
            "   0.69574077]\n",
            " [-1.17320072 -1.17301658  0.03655526 ...  0.37217855 -0.57923938\n",
            "   0.1014622 ]\n",
            " ...\n",
            " [ 1.6168938   1.51190623 -0.23108144 ...  1.97280659 -0.57923938\n",
            "  -1.38423425]\n",
            " [ 1.33788435  1.34409856 -0.14186921 ... -0.78383059 -0.57923938\n",
            "   1.21573453]\n",
            " [-0.05716291  0.16944482  1.55316317 ... -0.96167815  1.21991324\n",
            "   0.91859524]]\n",
            "[3 1 4 6 2 3 2 3 3 5 6 1 2 1 2 4 6 0 4 6 2 4 1 5 5 6 6 5 4 1 4 6 3 4 6 1 6\n",
            " 0 5 1 1 5 3 1 3 3 4 1 1 5 1 6 3 5 6 5 1 2 2 1 3 6 3 6 4 6 6 6 0 1 3 5 4 2\n",
            " 5 6 6 6 5 4 4 6 5 2 5 3 4 0 6 5 5 6 5 5 4 4 6 6 5 4 5 5 2 3 6 3 1 1 4 6 5\n",
            " 0 3 3 4 5 4 4 5 1 6 4 4 1 3 1 5 0 2 1 4 3 4 2 6 0 2 3 3 1 3 5 4 3 5 6 2 4\n",
            " 6 5 1 4 6 5 3 6 3 6 6 3 5 6 5 1]\n"
          ]
        }
      ]
    },
    {
      "cell_type": "code",
      "source": [
        "# Create a neural network model\n",
        "model = Sequential()\n",
        "model.add(Dense(256, input_shape=(X_train.shape[1],), activation='relu'))\n",
        "model.add(Dense(128, activation='relu'))\n",
        "model.add(Dense(len(label_encoder.classes_), activation='softmax'))\n",
        "\n",
        "\n",
        "# Compile the model\n",
        "model.compile(loss='sparse_categorical_crossentropy', optimizer='adam', metrics=['accuracy'])"
      ],
      "metadata": {
        "id": "B3eLoC4ALS44"
      },
      "execution_count": null,
      "outputs": []
    },
    {
      "cell_type": "code",
      "source": [
        "# Train the model\n",
        "history = model.fit(X_train, y_train, validation_data=(X_test, y_test), epochs=50)\n"
      ],
      "metadata": {
        "colab": {
          "base_uri": "https://localhost:8080/"
        },
        "id": "reGVfVI6LZao",
        "outputId": "fd912435-c188-4ab1-9e37-f20e7dba87c7"
      },
      "execution_count": null,
      "outputs": [
        {
          "output_type": "stream",
          "name": "stdout",
          "text": [
            "Epoch 1/50\n",
            "6/6 [==============================] - 0s 13ms/step - loss: 0.2149 - accuracy: 0.9695 - val_loss: 0.3387 - val_accuracy: 0.8780\n",
            "Epoch 2/50\n",
            "6/6 [==============================] - 0s 11ms/step - loss: 0.1803 - accuracy: 0.9756 - val_loss: 0.2909 - val_accuracy: 0.9268\n",
            "Epoch 3/50\n",
            "6/6 [==============================] - 0s 7ms/step - loss: 0.1509 - accuracy: 0.9756 - val_loss: 0.2625 - val_accuracy: 0.9268\n",
            "Epoch 4/50\n",
            "6/6 [==============================] - 0s 10ms/step - loss: 0.1287 - accuracy: 1.0000 - val_loss: 0.2450 - val_accuracy: 0.9268\n",
            "Epoch 5/50\n",
            "6/6 [==============================] - 0s 9ms/step - loss: 0.1107 - accuracy: 0.9817 - val_loss: 0.2341 - val_accuracy: 0.9268\n",
            "Epoch 6/50\n",
            "6/6 [==============================] - 0s 7ms/step - loss: 0.0948 - accuracy: 1.0000 - val_loss: 0.2220 - val_accuracy: 0.9268\n",
            "Epoch 7/50\n",
            "6/6 [==============================] - 0s 7ms/step - loss: 0.0840 - accuracy: 1.0000 - val_loss: 0.2090 - val_accuracy: 0.9268\n",
            "Epoch 8/50\n",
            "6/6 [==============================] - 0s 6ms/step - loss: 0.0745 - accuracy: 1.0000 - val_loss: 0.1975 - val_accuracy: 0.9268\n",
            "Epoch 9/50\n",
            "6/6 [==============================] - 0s 9ms/step - loss: 0.0677 - accuracy: 1.0000 - val_loss: 0.1916 - val_accuracy: 0.9268\n",
            "Epoch 10/50\n",
            "6/6 [==============================] - 0s 7ms/step - loss: 0.0644 - accuracy: 1.0000 - val_loss: 0.1774 - val_accuracy: 0.9268\n",
            "Epoch 11/50\n",
            "6/6 [==============================] - 0s 7ms/step - loss: 0.0540 - accuracy: 1.0000 - val_loss: 0.1651 - val_accuracy: 0.9268\n",
            "Epoch 12/50\n",
            "6/6 [==============================] - 0s 8ms/step - loss: 0.0481 - accuracy: 1.0000 - val_loss: 0.1577 - val_accuracy: 0.9024\n",
            "Epoch 13/50\n",
            "6/6 [==============================] - 0s 6ms/step - loss: 0.0447 - accuracy: 1.0000 - val_loss: 0.1509 - val_accuracy: 0.9268\n",
            "Epoch 14/50\n",
            "6/6 [==============================] - 0s 6ms/step - loss: 0.0406 - accuracy: 1.0000 - val_loss: 0.1467 - val_accuracy: 0.9268\n",
            "Epoch 15/50\n",
            "6/6 [==============================] - 0s 6ms/step - loss: 0.0375 - accuracy: 1.0000 - val_loss: 0.1420 - val_accuracy: 0.9268\n",
            "Epoch 16/50\n",
            "6/6 [==============================] - 0s 7ms/step - loss: 0.0341 - accuracy: 1.0000 - val_loss: 0.1393 - val_accuracy: 0.9268\n",
            "Epoch 17/50\n",
            "6/6 [==============================] - 0s 6ms/step - loss: 0.0319 - accuracy: 1.0000 - val_loss: 0.1356 - val_accuracy: 0.9268\n",
            "Epoch 18/50\n",
            "6/6 [==============================] - 0s 6ms/step - loss: 0.0291 - accuracy: 1.0000 - val_loss: 0.1330 - val_accuracy: 0.9268\n",
            "Epoch 19/50\n",
            "6/6 [==============================] - 0s 6ms/step - loss: 0.0279 - accuracy: 1.0000 - val_loss: 0.1227 - val_accuracy: 0.9268\n",
            "Epoch 20/50\n",
            "6/6 [==============================] - 0s 5ms/step - loss: 0.0253 - accuracy: 1.0000 - val_loss: 0.1223 - val_accuracy: 0.9268\n",
            "Epoch 21/50\n",
            "6/6 [==============================] - 0s 9ms/step - loss: 0.0234 - accuracy: 1.0000 - val_loss: 0.1181 - val_accuracy: 0.9268\n",
            "Epoch 22/50\n",
            "6/6 [==============================] - 0s 12ms/step - loss: 0.0214 - accuracy: 1.0000 - val_loss: 0.1170 - val_accuracy: 0.9512\n",
            "Epoch 23/50\n",
            "6/6 [==============================] - 0s 11ms/step - loss: 0.0198 - accuracy: 1.0000 - val_loss: 0.1152 - val_accuracy: 0.9512\n",
            "Epoch 24/50\n",
            "6/6 [==============================] - 0s 10ms/step - loss: 0.0186 - accuracy: 1.0000 - val_loss: 0.1142 - val_accuracy: 0.9512\n",
            "Epoch 25/50\n",
            "6/6 [==============================] - 0s 6ms/step - loss: 0.0173 - accuracy: 1.0000 - val_loss: 0.1195 - val_accuracy: 0.9512\n",
            "Epoch 26/50\n",
            "6/6 [==============================] - 0s 8ms/step - loss: 0.0162 - accuracy: 1.0000 - val_loss: 0.1220 - val_accuracy: 0.9512\n",
            "Epoch 27/50\n",
            "6/6 [==============================] - 0s 11ms/step - loss: 0.0153 - accuracy: 1.0000 - val_loss: 0.1234 - val_accuracy: 0.9512\n",
            "Epoch 28/50\n",
            "6/6 [==============================] - 0s 6ms/step - loss: 0.0147 - accuracy: 1.0000 - val_loss: 0.1254 - val_accuracy: 0.9512\n",
            "Epoch 29/50\n",
            "6/6 [==============================] - 0s 6ms/step - loss: 0.0138 - accuracy: 1.0000 - val_loss: 0.1231 - val_accuracy: 0.9512\n",
            "Epoch 30/50\n",
            "6/6 [==============================] - 0s 7ms/step - loss: 0.0132 - accuracy: 1.0000 - val_loss: 0.1261 - val_accuracy: 0.9512\n",
            "Epoch 31/50\n",
            "6/6 [==============================] - 0s 7ms/step - loss: 0.0131 - accuracy: 1.0000 - val_loss: 0.1233 - val_accuracy: 0.9512\n",
            "Epoch 32/50\n",
            "6/6 [==============================] - 0s 7ms/step - loss: 0.0121 - accuracy: 1.0000 - val_loss: 0.1166 - val_accuracy: 0.9512\n",
            "Epoch 33/50\n",
            "6/6 [==============================] - 0s 6ms/step - loss: 0.0113 - accuracy: 1.0000 - val_loss: 0.1162 - val_accuracy: 0.9512\n",
            "Epoch 34/50\n",
            "6/6 [==============================] - 0s 5ms/step - loss: 0.0107 - accuracy: 1.0000 - val_loss: 0.1155 - val_accuracy: 0.9512\n",
            "Epoch 35/50\n",
            "6/6 [==============================] - 0s 6ms/step - loss: 0.0104 - accuracy: 1.0000 - val_loss: 0.1138 - val_accuracy: 0.9512\n",
            "Epoch 36/50\n",
            "6/6 [==============================] - 0s 6ms/step - loss: 0.0096 - accuracy: 1.0000 - val_loss: 0.1157 - val_accuracy: 0.9512\n",
            "Epoch 37/50\n",
            "6/6 [==============================] - 0s 6ms/step - loss: 0.0094 - accuracy: 1.0000 - val_loss: 0.1184 - val_accuracy: 0.9512\n",
            "Epoch 38/50\n",
            "6/6 [==============================] - 0s 7ms/step - loss: 0.0090 - accuracy: 1.0000 - val_loss: 0.1176 - val_accuracy: 0.9512\n",
            "Epoch 39/50\n",
            "6/6 [==============================] - 0s 10ms/step - loss: 0.0086 - accuracy: 1.0000 - val_loss: 0.1161 - val_accuracy: 0.9512\n",
            "Epoch 40/50\n",
            "6/6 [==============================] - 0s 6ms/step - loss: 0.0083 - accuracy: 1.0000 - val_loss: 0.1155 - val_accuracy: 0.9512\n",
            "Epoch 41/50\n",
            "6/6 [==============================] - 0s 6ms/step - loss: 0.0079 - accuracy: 1.0000 - val_loss: 0.1106 - val_accuracy: 0.9512\n",
            "Epoch 42/50\n",
            "6/6 [==============================] - 0s 10ms/step - loss: 0.0080 - accuracy: 1.0000 - val_loss: 0.0991 - val_accuracy: 0.9512\n",
            "Epoch 43/50\n",
            "6/6 [==============================] - 0s 7ms/step - loss: 0.0078 - accuracy: 1.0000 - val_loss: 0.1020 - val_accuracy: 0.9512\n",
            "Epoch 44/50\n",
            "6/6 [==============================] - 0s 7ms/step - loss: 0.0073 - accuracy: 1.0000 - val_loss: 0.1152 - val_accuracy: 0.9512\n",
            "Epoch 45/50\n",
            "6/6 [==============================] - 0s 10ms/step - loss: 0.0068 - accuracy: 1.0000 - val_loss: 0.1165 - val_accuracy: 0.9512\n",
            "Epoch 46/50\n",
            "6/6 [==============================] - 0s 9ms/step - loss: 0.0063 - accuracy: 1.0000 - val_loss: 0.1000 - val_accuracy: 0.9512\n",
            "Epoch 47/50\n",
            "6/6 [==============================] - 0s 7ms/step - loss: 0.0067 - accuracy: 1.0000 - val_loss: 0.0949 - val_accuracy: 0.9512\n",
            "Epoch 48/50\n",
            "6/6 [==============================] - 0s 10ms/step - loss: 0.0065 - accuracy: 1.0000 - val_loss: 0.1015 - val_accuracy: 0.9512\n",
            "Epoch 49/50\n",
            "6/6 [==============================] - 0s 9ms/step - loss: 0.0061 - accuracy: 1.0000 - val_loss: 0.0925 - val_accuracy: 0.9512\n",
            "Epoch 50/50\n",
            "6/6 [==============================] - 0s 6ms/step - loss: 0.0062 - accuracy: 1.0000 - val_loss: 0.0994 - val_accuracy: 0.9512\n"
          ]
        }
      ]
    },
    {
      "cell_type": "code",
      "source": [
        "acc=history.history['accuracy']\n",
        "val_acc=history.history['val_accuracy']\n",
        "loss=history.history['loss']\n",
        "val_loss=history.history['val_loss']\n",
        "\n",
        "epochs=range(len(acc)) # Get number of epochs\n",
        "\n",
        "#------------------------------------------------\n",
        "# Plot training and validation accuracy per epoch\n",
        "#------------------------------------------------\n",
        "plt.plot(epochs, acc, 'r', \"Training Accuracy\")\n",
        "plt.plot(epochs, val_acc, 'b', \"Validation Accuracy\")\n",
        "plt.title('Training and validation accuracy')\n",
        "plt.show()\n",
        "print(\"\")\n",
        "\n",
        "#------------------------------------------------\n",
        "# Plot training and validation loss per epoch\n",
        "#------------------------------------------------\n",
        "plt.plot(epochs, loss, 'r', \"Training Loss\")\n",
        "plt.plot(epochs, val_loss, 'b', \"Validation Loss\")\n",
        "plt.show()"
      ],
      "metadata": {
        "colab": {
          "base_uri": "https://localhost:8080/",
          "height": 882
        },
        "id": "UZ_H2b7_SgtC",
        "outputId": "a7fe897f-0dbc-4528-b340-dba6d8eee6cb"
      },
      "execution_count": null,
      "outputs": [
        {
          "output_type": "display_data",
          "data": {
            "text/plain": [
              "<Figure size 640x480 with 1 Axes>"
            ],
            "image/png": "[encoded data removed]"
          },
          "metadata": {}
        },
        {
          "output_type": "stream",
          "name": "stdout",
          "text": [
            "\n"
          ]
        },
        {
          "output_type": "display_data",
          "data": {
            "text/plain": [
              "<Figure size 640x480 with 1 Axes>"
            ],
            "image/png": "[encoded data removed]"
          },
          "metadata": {}
        }
      ]
    },
    {
      "cell_type": "code",
      "source": [
        "new_input = np.array([[27.0, 54.0, 28.0, 1.0, 7.0, 13.0, 0.0, 40.0]])\n",
        "predicted_label = np.argmax(model.predict(new_input), axis=-1)\n",
        "predicted_fertilizer = label_encoder.inverse_transform(predicted_label)\n",
        "print(\"Predicted fertilizer:\", predicted_fertilizer)"
      ],
      "metadata": {
        "colab": {
          "base_uri": "https://localhost:8080/"
        },
        "id": "NjJZ8OGdSlvK",
        "outputId": "bfcf9e62-abf4-4895-deec-427538643abe"
      },
      "execution_count": null,
      "outputs": [
        {
          "output_type": "stream",
          "name": "stdout",
          "text": [
            "1/1 [==============================] - 0s 17ms/step\n",
            "Predicted fertilizer: ['DAP']\n"
          ]
        }
      ]
    },
    {
      "cell_type": "code",
      "source": [
        "s= scaler.inverse_transform(X)\n",
        "sl = s.tolist()\n",
        "xl = label_encoder.inverse_transform(X['Soil Type'])\n",
        "print(sl[10])"
      ],
      "metadata": {
        "colab": {
          "base_uri": "https://localhost:8080/",
          "height": 232
        },
        "id": "VTGPw6FiTNIJ",
        "outputId": "dfeac9e9-064f-4674-831c-5e940fefba9b"
      },
      "execution_count": null,
      "outputs": [
        {
          "output_type": "error",
          "ename": "IndexError",
          "evalue": "ignored",
          "traceback": [
            "\u001b[0;31m---------------------------------------------------------------------------\u001b[0m",
            "\u001b[0;31mIndexError\u001b[0m                                Traceback (most recent call last)",
            "\u001b[0;32m<ipython-input-83-f36e70141679>\u001b[0m in \u001b[0;36m<cell line: 3>\u001b[0;34m()\u001b[0m\n\u001b[1;32m      1\u001b[0m \u001b[0ms\u001b[0m\u001b[0;34m=\u001b[0m \u001b[0mscaler\u001b[0m\u001b[0;34m.\u001b[0m\u001b[0minverse_transform\u001b[0m\u001b[0;34m(\u001b[0m\u001b[0mX\u001b[0m\u001b[0;34m)\u001b[0m\u001b[0;34m\u001b[0m\u001b[0;34m\u001b[0m\u001b[0m\n\u001b[1;32m      2\u001b[0m \u001b[0msl\u001b[0m \u001b[0;34m=\u001b[0m \u001b[0ms\u001b[0m\u001b[0;34m.\u001b[0m\u001b[0mtolist\u001b[0m\u001b[0;34m(\u001b[0m\u001b[0;34m)\u001b[0m\u001b[0;34m\u001b[0m\u001b[0;34m\u001b[0m\u001b[0m\n\u001b[0;32m----> 3\u001b[0;31m \u001b[0mxl\u001b[0m \u001b[0;34m=\u001b[0m \u001b[0mlabel_encoder\u001b[0m\u001b[0;34m.\u001b[0m\u001b[0minverse_transform\u001b[0m\u001b[0;34m(\u001b[0m\u001b[0mX\u001b[0m\u001b[0;34m[\u001b[0m\u001b[0;34m'Soil Type'\u001b[0m\u001b[0;34m]\u001b[0m\u001b[0;34m)\u001b[0m\u001b[0;34m\u001b[0m\u001b[0;34m\u001b[0m\u001b[0m\n\u001b[0m\u001b[1;32m      4\u001b[0m \u001b[0mprint\u001b[0m\u001b[0;34m(\u001b[0m\u001b[0msl\u001b[0m\u001b[0;34m[\u001b[0m\u001b[0;36m10\u001b[0m\u001b[0;34m]\u001b[0m\u001b[0;34m)\u001b[0m\u001b[0;34m\u001b[0m\u001b[0;34m\u001b[0m\u001b[0m\n",
            "\u001b[0;31mIndexError\u001b[0m: only integers, slices (`:`), ellipsis (`...`), numpy.newaxis (`None`) and integer or boolean arrays are valid indices"
          ]
        }
      ]
    }
  ]
}